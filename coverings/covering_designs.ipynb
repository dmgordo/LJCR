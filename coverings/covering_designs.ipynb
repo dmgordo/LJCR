{
 "cells": [
  {
   "cell_type": "markdown",
   "metadata": {},
   "source": [
    "# Covering Designs\n",
    "\n",
    "This notebook provides permanent access to data on covering designs from the __[La Jolla Combinatorics Repository](https://dmgordon.org)__.  A $(v,k,t)$ covering design is a collection of $k$-subsets of a $v$-set (\"blocks\"), such that all $t$-sets are contained in at least one $k$-set.  This database gives upper and lower bounds for coverings designs with $v < 100$, $k \\leq 25$ and $t \\leq 8$.\n",
    "\n",
    "The database is contained in two json files.  `coverdata.json` contains data about the covering designs: upper and lower bounds, and a history of improvements since the database was first created in 1996.  `covers.json` contains the blocks of the best known covering designs.  The file `covering_code.py` contains basic code for accessing information from the database."
   ]
  },
  {
   "cell_type": "code",
   "execution_count": 3,
   "metadata": {},
   "outputs": [
    {
     "name": "stdout",
     "output_type": "stream",
     "text": [
      "read 8759 data items\n"
     ]
    }
   ],
   "source": [
    "import json\n",
    "\n",
    "f = open('coverdata.json','r')\n",
    "coverdata = json.load(f)\n",
    "f.close()\n",
    "print(f'read {len(coverdata.keys())} data items')"
   ]
  },
  {
   "cell_type": "markdown",
   "metadata": {},
   "source": [
    "Note that `covers.json` is 2.7 GB, so reading it in may take a few minutes."
   ]
  },
  {
   "cell_type": "code",
   "execution_count": 4,
   "metadata": {},
   "outputs": [
    {
     "name": "stdout",
     "output_type": "stream",
     "text": [
      "read 8759 data items\n"
     ]
    }
   ],
   "source": [
    "f = open('covers.json','r')\n",
    "covers = json.load(f)\n",
    "f.close()\n",
    "print(f'read {len(covers.keys())} data items')"
   ]
  },
  {
   "cell_type": "code",
   "execution_count": 5,
   "metadata": {},
   "outputs": [],
   "source": [
    "load('covering_code.py')"
   ]
  },
  {
   "cell_type": "markdown",
   "metadata": {},
   "source": [
    "The website <https://dmgordon.org> allows searches for particular values or ranges of the parameters.  If you just want to replicate that here, you can ignore everything below, and just substitute numbers of interest in the ranges of $v$, $k$, and $t$."
   ]
  },
  {
   "cell_type": "code",
   "execution_count": 6,
   "metadata": {},
   "outputs": [
    {
     "data": {
      "text/html": [
       "<style type=\"text/css\">\n",
       "</style>\n",
       "<table id=\"T_01610\">\n",
       "  <thead>\n",
       "    <tr>\n",
       "      <th id=\"T_01610_level0_col0\" class=\"col_heading level0 col0\" >v</th>\n",
       "      <th id=\"T_01610_level0_col1\" class=\"col_heading level0 col1\" >k</th>\n",
       "      <th id=\"T_01610_level0_col2\" class=\"col_heading level0 col2\" >t</th>\n",
       "      <th id=\"T_01610_level0_col3\" class=\"col_heading level0 col3\" >size</th>\n",
       "      <th id=\"T_01610_level0_col4\" class=\"col_heading level0 col4\" >lower bd</th>\n",
       "      <th id=\"T_01610_level0_col5\" class=\"col_heading level0 col5\" >creator</th>\n",
       "      <th id=\"T_01610_level0_col6\" class=\"col_heading level0 col6\" >method</th>\n",
       "      <th id=\"T_01610_level0_col7\" class=\"col_heading level0 col7\" >timestamp</th>\n",
       "    </tr>\n",
       "  </thead>\n",
       "  <tbody>\n",
       "    <tr>\n",
       "      <td id=\"T_01610_row0_col0\" class=\"data row0 col0\" >10</td>\n",
       "      <td id=\"T_01610_row0_col1\" class=\"data row0 col1\" >9</td>\n",
       "      <td id=\"T_01610_row0_col2\" class=\"data row0 col2\" >6</td>\n",
       "      <td id=\"T_01610_row0_col3\" class=\"data row0 col3\" >7</td>\n",
       "      <td id=\"T_01610_row0_col4\" class=\"data row0 col4\" >7</td>\n",
       "      <td id=\"T_01610_row0_col5\" class=\"data row0 col5\" >JCD article</td>\n",
       "      <td id=\"T_01610_row0_col6\" class=\"data row0 col6\" ></td>\n",
       "      <td id=\"T_01610_row0_col7\" class=\"data row0 col7\" >1996-11-14 17:08:00</td>\n",
       "    </tr>\n",
       "    <tr>\n",
       "      <td id=\"T_01610_row1_col0\" class=\"data row1 col0\" >11</td>\n",
       "      <td id=\"T_01610_row1_col1\" class=\"data row1 col1\" >9</td>\n",
       "      <td id=\"T_01610_row1_col2\" class=\"data row1 col2\" >6</td>\n",
       "      <td id=\"T_01610_row1_col3\" class=\"data row1 col3\" >10</td>\n",
       "      <td id=\"T_01610_row1_col4\" class=\"data row1 col4\" >10</td>\n",
       "      <td id=\"T_01610_row1_col5\" class=\"data row1 col5\" >JCD article</td>\n",
       "      <td id=\"T_01610_row1_col6\" class=\"data row1 col6\" ></td>\n",
       "      <td id=\"T_01610_row1_col7\" class=\"data row1 col7\" >1996-11-14 17:08:00</td>\n",
       "    </tr>\n",
       "    <tr>\n",
       "      <td id=\"T_01610_row2_col0\" class=\"data row2 col0\" >12</td>\n",
       "      <td id=\"T_01610_row2_col1\" class=\"data row2 col1\" >9</td>\n",
       "      <td id=\"T_01610_row2_col2\" class=\"data row2 col2\" >6</td>\n",
       "      <td id=\"T_01610_row2_col3\" class=\"data row2 col3\" >22</td>\n",
       "      <td id=\"T_01610_row2_col4\" class=\"data row2 col4\" >22</td>\n",
       "      <td id=\"T_01610_row2_col5\" class=\"data row2 col5\" >JCD article</td>\n",
       "      <td id=\"T_01610_row2_col6\" class=\"data row2 col6\" ></td>\n",
       "      <td id=\"T_01610_row2_col7\" class=\"data row2 col7\" >1996-11-14 17:08:00</td>\n",
       "    </tr>\n",
       "    <tr>\n",
       "      <td id=\"T_01610_row3_col0\" class=\"data row3 col0\" >13</td>\n",
       "      <td id=\"T_01610_row3_col1\" class=\"data row3 col1\" >9</td>\n",
       "      <td id=\"T_01610_row3_col2\" class=\"data row3 col2\" >6</td>\n",
       "      <td id=\"T_01610_row3_col3\" class=\"data row3 col3\" >39</td>\n",
       "      <td id=\"T_01610_row3_col4\" class=\"data row3 col4\" >38</td>\n",
       "      <td id=\"T_01610_row3_col5\" class=\"data row3 col5\" >Chaoying Dai, Ben Li and Michel Toulouse</td>\n",
       "      <td id=\"T_01610_row3_col6\" class=\"data row3 col6\" ></td>\n",
       "      <td id=\"T_01610_row3_col7\" class=\"data row3 col7\" >2006-05-02 00:00:00</td>\n",
       "    </tr>\n",
       "    <tr>\n",
       "      <td id=\"T_01610_row4_col0\" class=\"data row4 col0\" >14</td>\n",
       "      <td id=\"T_01610_row4_col1\" class=\"data row4 col1\" >9</td>\n",
       "      <td id=\"T_01610_row4_col2\" class=\"data row4 col2\" >6</td>\n",
       "      <td id=\"T_01610_row4_col3\" class=\"data row4 col3\" >68</td>\n",
       "      <td id=\"T_01610_row4_col4\" class=\"data row4 col4\" >52</td>\n",
       "      <td id=\"T_01610_row4_col5\" class=\"data row4 col5\" ></td>\n",
       "      <td id=\"T_01610_row4_col6\" class=\"data row4 col6\" >Simple Construction: induced on (15,10,7) covering</td>\n",
       "      <td id=\"T_01610_row4_col7\" class=\"data row4 col7\" >2008-09-22 00:00:00</td>\n",
       "    </tr>\n",
       "    <tr>\n",
       "      <td id=\"T_01610_row5_col0\" class=\"data row5 col0\" >15</td>\n",
       "      <td id=\"T_01610_row5_col1\" class=\"data row5 col1\" >9</td>\n",
       "      <td id=\"T_01610_row5_col2\" class=\"data row5 col2\" >6</td>\n",
       "      <td id=\"T_01610_row5_col3\" class=\"data row5 col3\" >99</td>\n",
       "      <td id=\"T_01610_row5_col4\" class=\"data row5 col4\" >82</td>\n",
       "      <td id=\"T_01610_row5_col5\" class=\"data row5 col5\" >Chaoying Dai, Ben Li and Michel Toulouse</td>\n",
       "      <td id=\"T_01610_row5_col6\" class=\"data row5 col6\" ></td>\n",
       "      <td id=\"T_01610_row5_col7\" class=\"data row5 col7\" >2005-06-28 00:00:00</td>\n",
       "    </tr>\n",
       "    <tr>\n",
       "      <td id=\"T_01610_row6_col0\" class=\"data row6 col0\" >16</td>\n",
       "      <td id=\"T_01610_row6_col1\" class=\"data row6 col1\" >9</td>\n",
       "      <td id=\"T_01610_row6_col2\" class=\"data row6 col2\" >6</td>\n",
       "      <td id=\"T_01610_row6_col3\" class=\"data row6 col3\" >169</td>\n",
       "      <td id=\"T_01610_row6_col4\" class=\"data row6 col4\" >134</td>\n",
       "      <td id=\"T_01610_row6_col5\" class=\"data row6 col5\" >Alexandre Spaeth</td>\n",
       "      <td id=\"T_01610_row6_col6\" class=\"data row6 col6\" ></td>\n",
       "      <td id=\"T_01610_row6_col7\" class=\"data row6 col7\" >2008-04-30 00:00:00</td>\n",
       "    </tr>\n",
       "    <tr>\n",
       "      <td id=\"T_01610_row7_col0\" class=\"data row7 col0\" >17</td>\n",
       "      <td id=\"T_01610_row7_col1\" class=\"data row7 col1\" >9</td>\n",
       "      <td id=\"T_01610_row7_col2\" class=\"data row7 col2\" >6</td>\n",
       "      <td id=\"T_01610_row7_col3\" class=\"data row7 col3\" >242</td>\n",
       "      <td id=\"T_01610_row7_col4\" class=\"data row7 col4\" >197</td>\n",
       "      <td id=\"T_01610_row7_col5\" class=\"data row7 col5\" >Jan de Heer and Steve Muir</td>\n",
       "      <td id=\"T_01610_row7_col6\" class=\"data row7 col6\" ></td>\n",
       "      <td id=\"T_01610_row7_col7\" class=\"data row7 col7\" >2006-04-13 00:00:00</td>\n",
       "    </tr>\n",
       "    <tr>\n",
       "      <td id=\"T_01610_row8_col0\" class=\"data row8 col0\" >18</td>\n",
       "      <td id=\"T_01610_row8_col1\" class=\"data row8 col1\" >9</td>\n",
       "      <td id=\"T_01610_row8_col2\" class=\"data row8 col2\" >6</td>\n",
       "      <td id=\"T_01610_row8_col3\" class=\"data row8 col3\" >395</td>\n",
       "      <td id=\"T_01610_row8_col4\" class=\"data row8 col4\" >294</td>\n",
       "      <td id=\"T_01610_row8_col5\" class=\"data row8 col5\" >Anastasios Tampakis</td>\n",
       "      <td id=\"T_01610_row8_col6\" class=\"data row8 col6\" ></td>\n",
       "      <td id=\"T_01610_row8_col7\" class=\"data row8 col7\" >2008-09-02 00:00:00</td>\n",
       "    </tr>\n",
       "    <tr>\n",
       "      <td id=\"T_01610_row9_col0\" class=\"data row9 col0\" >19</td>\n",
       "      <td id=\"T_01610_row9_col1\" class=\"data row9 col1\" >9</td>\n",
       "      <td id=\"T_01610_row9_col2\" class=\"data row9 col2\" >6</td>\n",
       "      <td id=\"T_01610_row9_col3\" class=\"data row9 col3\" >581</td>\n",
       "      <td id=\"T_01610_row9_col4\" class=\"data row9 col4\" >406</td>\n",
       "      <td id=\"T_01610_row9_col5\" class=\"data row9 col5\" >Anastasios Tampakis</td>\n",
       "      <td id=\"T_01610_row9_col6\" class=\"data row9 col6\" >Wheel Generator</td>\n",
       "      <td id=\"T_01610_row9_col7\" class=\"data row9 col7\" >2020-04-19 04:09:01</td>\n",
       "    </tr>\n",
       "    <tr>\n",
       "      <td id=\"T_01610_row10_col0\" class=\"data row10 col0\" >20</td>\n",
       "      <td id=\"T_01610_row10_col1\" class=\"data row10 col1\" >9</td>\n",
       "      <td id=\"T_01610_row10_col2\" class=\"data row10 col2\" >6</td>\n",
       "      <td id=\"T_01610_row10_col3\" class=\"data row10 col3\" >820</td>\n",
       "      <td id=\"T_01610_row10_col4\" class=\"data row10 col4\" >587</td>\n",
       "      <td id=\"T_01610_row10_col5\" class=\"data row10 col5\" >Anastasios Tampakis</td>\n",
       "      <td id=\"T_01610_row10_col6\" class=\"data row10 col6\" >Wheel Generator, based on Jan de Heer and Steve Muir work</td>\n",
       "      <td id=\"T_01610_row10_col7\" class=\"data row10 col7\" >2020-05-04 11:26:47</td>\n",
       "    </tr>\n",
       "    <tr>\n",
       "      <td id=\"T_01610_row11_col0\" class=\"data row11 col0\" >21</td>\n",
       "      <td id=\"T_01610_row11_col1\" class=\"data row11 col1\" >9</td>\n",
       "      <td id=\"T_01610_row11_col2\" class=\"data row11 col2\" >6</td>\n",
       "      <td id=\"T_01610_row11_col3\" class=\"data row11 col3\" >1060</td>\n",
       "      <td id=\"T_01610_row11_col4\" class=\"data row11 col4\" >766</td>\n",
       "      <td id=\"T_01610_row11_col5\" class=\"data row11 col5\" >Marco Meoli</td>\n",
       "      <td id=\"T_01610_row11_col6\" class=\"data row11 col6\" ></td>\n",
       "      <td id=\"T_01610_row11_col7\" class=\"data row11 col7\" >2021-02-01 19:52:48</td>\n",
       "    </tr>\n",
       "    <tr>\n",
       "      <td id=\"T_01610_row12_col0\" class=\"data row12 col0\" >22</td>\n",
       "      <td id=\"T_01610_row12_col1\" class=\"data row12 col1\" >9</td>\n",
       "      <td id=\"T_01610_row12_col2\" class=\"data row12 col2\" >6</td>\n",
       "      <td id=\"T_01610_row12_col3\" class=\"data row12 col3\" >1511</td>\n",
       "      <td id=\"T_01610_row12_col4\" class=\"data row12 col4\" >1054</td>\n",
       "      <td id=\"T_01610_row12_col5\" class=\"data row12 col5\" >Alessandro Jurcovich</td>\n",
       "      <td id=\"T_01610_row12_col6\" class=\"data row12 col6\" >Based on work by A. Tampakis</td>\n",
       "      <td id=\"T_01610_row12_col7\" class=\"data row12 col7\" >2021-02-05 00:56:57</td>\n",
       "    </tr>\n",
       "    <tr>\n",
       "      <td id=\"T_01610_row13_col0\" class=\"data row13 col0\" >23</td>\n",
       "      <td id=\"T_01610_row13_col1\" class=\"data row13 col1\" >9</td>\n",
       "      <td id=\"T_01610_row13_col2\" class=\"data row13 col2\" >6</td>\n",
       "      <td id=\"T_01610_row13_col3\" class=\"data row13 col3\" >2020</td>\n",
       "      <td id=\"T_01610_row13_col4\" class=\"data row13 col4\" >1350</td>\n",
       "      <td id=\"T_01610_row13_col5\" class=\"data row13 col5\" >Evandro De Simone</td>\n",
       "      <td id=\"T_01610_row13_col6\" class=\"data row13 col6\" >Wheeling Systems Checker 4</td>\n",
       "      <td id=\"T_01610_row13_col7\" class=\"data row13 col7\" >2021-07-14 09:05:45</td>\n",
       "    </tr>\n",
       "    <tr>\n",
       "      <td id=\"T_01610_row14_col0\" class=\"data row14 col0\" >24</td>\n",
       "      <td id=\"T_01610_row14_col1\" class=\"data row14 col1\" >9</td>\n",
       "      <td id=\"T_01610_row14_col2\" class=\"data row14 col2\" >6</td>\n",
       "      <td id=\"T_01610_row14_col3\" class=\"data row14 col3\" >2476</td>\n",
       "      <td id=\"T_01610_row14_col4\" class=\"data row14 col4\" >1787</td>\n",
       "      <td id=\"T_01610_row14_col5\" class=\"data row14 col5\" >Marco Meoli</td>\n",
       "      <td id=\"T_01610_row14_col6\" class=\"data row14 col6\" ></td>\n",
       "      <td id=\"T_01610_row14_col7\" class=\"data row14 col7\" >2021-01-27 14:14:33</td>\n",
       "    </tr>\n",
       "  </tbody>\n",
       "</table>\n"
      ],
      "text/plain": [
       "<pandas.io.formats.style.Styler object at 0x7fb71561f5b0>"
      ]
     },
     "execution_count": 6,
     "metadata": {},
     "output_type": "execute_result"
    }
   ],
   "source": [
    "T = init_tab()\n",
    "for C in coverdata:\n",
    "    v = get_v(C)\n",
    "    k = get_k(C)\n",
    "    t = get_t(C)\n",
    "    if v in range(10,25):\n",
    "        if k in range(9,10):\n",
    "            if t in range(6,7):\n",
    "                add_tab_entry(T,C)\n",
    "show_tab(T)"
   ]
  },
  {
   "cell_type": "markdown",
   "metadata": {},
   "source": [
    "The cells below show the code available to examine the dataset.  `get_cover_data(v,k,t)` shows the size of the current best $(v,k,t)$ covering design, together with its source and a lower bound for the size of such a covering."
   ]
  },
  {
   "cell_type": "code",
   "execution_count": 7,
   "metadata": {},
   "outputs": [
    {
     "name": "stdout",
     "output_type": "stream",
     "text": [
      "2975 <= C(35,9,5) <= 4774\n",
      "last update 4774:  2022-10-26 07:15:14 by Alessandro Jurcovich\n"
     ]
    }
   ],
   "source": [
    "get_cover_data(35,9,5)"
   ]
  },
  {
   "cell_type": "markdown",
   "metadata": {},
   "source": [
    "`show_history(v,k,t)` shows previous $(v,k,t)$ covering designs submitted."
   ]
  },
  {
   "cell_type": "code",
   "execution_count": 8,
   "metadata": {},
   "outputs": [
    {
     "name": "stdout",
     "output_type": "stream",
     "text": [
      "2975 <= C(35,9,5) <= 4774\n",
      "update history:\n"
     ]
    },
    {
     "data": {
      "text/html": [
       "<style type=\"text/css\">\n",
       "</style>\n",
       "<table id=\"T_fac2f\">\n",
       "  <thead>\n",
       "    <tr>\n",
       "      <th id=\"T_fac2f_level0_col0\" class=\"col_heading level0 col0\" >size</th>\n",
       "      <th id=\"T_fac2f_level0_col1\" class=\"col_heading level0 col1\" >creator</th>\n",
       "      <th id=\"T_fac2f_level0_col2\" class=\"col_heading level0 col2\" >method</th>\n",
       "      <th id=\"T_fac2f_level0_col3\" class=\"col_heading level0 col3\" >timestamp</th>\n",
       "    </tr>\n",
       "  </thead>\n",
       "  <tbody>\n",
       "    <tr>\n",
       "      <td id=\"T_fac2f_row0_col0\" class=\"data row0 col0\" >4774</td>\n",
       "      <td id=\"T_fac2f_row0_col1\" class=\"data row0 col1\" >Alessandro Jurcovich</td>\n",
       "      <td id=\"T_fac2f_row0_col2\" class=\"data row0 col2\" ></td>\n",
       "      <td id=\"T_fac2f_row0_col3\" class=\"data row0 col3\" >2022-10-26 07:15:14</td>\n",
       "    </tr>\n",
       "    <tr>\n",
       "      <td id=\"T_fac2f_row1_col0\" class=\"data row1 col0\" >4775</td>\n",
       "      <td id=\"T_fac2f_row1_col1\" class=\"data row1 col1\" >Alessandro Jurcovich</td>\n",
       "      <td id=\"T_fac2f_row1_col2\" class=\"data row1 col2\" ></td>\n",
       "      <td id=\"T_fac2f_row1_col3\" class=\"data row1 col3\" >2022-10-25 11:36:06</td>\n",
       "    </tr>\n",
       "    <tr>\n",
       "      <td id=\"T_fac2f_row2_col0\" class=\"data row2 col0\" >4791</td>\n",
       "      <td id=\"T_fac2f_row2_col1\" class=\"data row2 col1\" >M. Wang</td>\n",
       "      <td id=\"T_fac2f_row2_col2\" class=\"data row2 col2\" >Wang construction</td>\n",
       "      <td id=\"T_fac2f_row2_col3\" class=\"data row2 col3\" >2022-10-15 23:08:06</td>\n",
       "    </tr>\n",
       "    <tr>\n",
       "      <td id=\"T_fac2f_row3_col0\" class=\"data row3 col0\" >4793</td>\n",
       "      <td id=\"T_fac2f_row3_col1\" class=\"data row3 col1\" >Dietmar Pree</td>\n",
       "      <td id=\"T_fac2f_row3_col2\" class=\"data row3 col2\" >Local search</td>\n",
       "      <td id=\"T_fac2f_row3_col3\" class=\"data row3 col3\" >2021-02-09 20:50:16</td>\n",
       "    </tr>\n",
       "    <tr>\n",
       "      <td id=\"T_fac2f_row4_col0\" class=\"data row4 col0\" >4797</td>\n",
       "      <td id=\"T_fac2f_row4_col1\" class=\"data row4 col1\" >Marco Meoli</td>\n",
       "      <td id=\"T_fac2f_row4_col2\" class=\"data row4 col2\" ></td>\n",
       "      <td id=\"T_fac2f_row4_col3\" class=\"data row4 col3\" >2021-01-27 23:03:09</td>\n",
       "    </tr>\n",
       "    <tr>\n",
       "      <td id=\"T_fac2f_row5_col0\" class=\"data row5 col0\" >4812</td>\n",
       "      <td id=\"T_fac2f_row5_col1\" class=\"data row5 col1\" >LJCR</td>\n",
       "      <td id=\"T_fac2f_row5_col2\" class=\"data row5 col2\" >Dynamic programming construction</td>\n",
       "      <td id=\"T_fac2f_row5_col3\" class=\"data row5 col3\" >2021-01-27 17:38:08</td>\n",
       "    </tr>\n",
       "    <tr>\n",
       "      <td id=\"T_fac2f_row6_col0\" class=\"data row6 col0\" >4888</td>\n",
       "      <td id=\"T_fac2f_row6_col1\" class=\"data row6 col1\" >Alessandro Jurcovich</td>\n",
       "      <td id=\"T_fac2f_row6_col2\" class=\"data row6 col2\" ></td>\n",
       "      <td id=\"T_fac2f_row6_col3\" class=\"data row6 col3\" >2021-01-02 00:41:37</td>\n",
       "    </tr>\n",
       "    <tr>\n",
       "      <td id=\"T_fac2f_row7_col0\" class=\"data row7 col0\" >4889</td>\n",
       "      <td id=\"T_fac2f_row7_col1\" class=\"data row7 col1\" >Terenzio Lazzarotto</td>\n",
       "      <td id=\"T_fac2f_row7_col2\" class=\"data row7 col2\" ></td>\n",
       "      <td id=\"T_fac2f_row7_col3\" class=\"data row7 col3\" >2020-07-26 10:41:11</td>\n",
       "    </tr>\n",
       "    <tr>\n",
       "      <td id=\"T_fac2f_row8_col0\" class=\"data row8 col0\" >4936</td>\n",
       "      <td id=\"T_fac2f_row8_col1\" class=\"data row8 col1\" >kleszek</td>\n",
       "      <td id=\"T_fac2f_row8_col2\" class=\"data row8 col2\" >Wheel Generator</td>\n",
       "      <td id=\"T_fac2f_row8_col3\" class=\"data row8 col3\" >2020-06-18 02:26:18</td>\n",
       "    </tr>\n",
       "    <tr>\n",
       "      <td id=\"T_fac2f_row9_col0\" class=\"data row9 col0\" >4938</td>\n",
       "      <td id=\"T_fac2f_row9_col1\" class=\"data row9 col1\" >kleszek</td>\n",
       "      <td id=\"T_fac2f_row9_col2\" class=\"data row9 col2\" >Wheel Generator</td>\n",
       "      <td id=\"T_fac2f_row9_col3\" class=\"data row9 col3\" >2020-06-18 01:59:24</td>\n",
       "    </tr>\n",
       "    <tr>\n",
       "      <td id=\"T_fac2f_row10_col0\" class=\"data row10 col0\" >4943</td>\n",
       "      <td id=\"T_fac2f_row10_col1\" class=\"data row10 col1\" >Jan de Heer and Steve Muir</td>\n",
       "      <td id=\"T_fac2f_row10_col2\" class=\"data row10 col2\" >Private tools</td>\n",
       "      <td id=\"T_fac2f_row10_col3\" class=\"data row10 col3\" >2020-05-22 12:12:20</td>\n",
       "    </tr>\n",
       "    <tr>\n",
       "      <td id=\"T_fac2f_row11_col0\" class=\"data row11 col0\" >4975</td>\n",
       "      <td id=\"T_fac2f_row11_col1\" class=\"data row11 col1\" >kleszek</td>\n",
       "      <td id=\"T_fac2f_row11_col2\" class=\"data row11 col2\" >Wheel Generator</td>\n",
       "      <td id=\"T_fac2f_row11_col3\" class=\"data row11 col3\" >2019-05-08 04:40:09</td>\n",
       "    </tr>\n",
       "    <tr>\n",
       "      <td id=\"T_fac2f_row12_col0\" class=\"data row12 col0\" >4976</td>\n",
       "      <td id=\"T_fac2f_row12_col1\" class=\"data row12 col1\" >Jan de Heer and Steve Muir</td>\n",
       "      <td id=\"T_fac2f_row12_col2\" class=\"data row12 col2\" >Private tools</td>\n",
       "      <td id=\"T_fac2f_row12_col3\" class=\"data row12 col3\" >2013-05-22 12:43:30</td>\n",
       "    </tr>\n",
       "    <tr>\n",
       "      <td id=\"T_fac2f_row13_col0\" class=\"data row13 col0\" >4997</td>\n",
       "      <td id=\"T_fac2f_row13_col1\" class=\"data row13 col1\" >Gerald Unger</td>\n",
       "      <td id=\"T_fac2f_row13_col2\" class=\"data row13 col2\" ></td>\n",
       "      <td id=\"T_fac2f_row13_col3\" class=\"data row13 col3\" >2013-05-12 22:59:58</td>\n",
       "    </tr>\n",
       "    <tr>\n",
       "      <td id=\"T_fac2f_row14_col0\" class=\"data row14 col0\" >4999</td>\n",
       "      <td id=\"T_fac2f_row14_col1\" class=\"data row14 col1\" >Rade Belic & Dragan Stojiljkovic</td>\n",
       "      <td id=\"T_fac2f_row14_col2\" class=\"data row14 col2\" ></td>\n",
       "      <td id=\"T_fac2f_row14_col3\" class=\"data row14 col3\" >2009-10-16 10:54:41 </td>\n",
       "    </tr>\n",
       "    <tr>\n",
       "      <td id=\"T_fac2f_row15_col0\" class=\"data row15 col0\" >5017</td>\n",
       "      <td id=\"T_fac2f_row15_col1\" class=\"data row15 col1\" >Gerald Unger</td>\n",
       "      <td id=\"T_fac2f_row15_col2\" class=\"data row15 col2\" ></td>\n",
       "      <td id=\"T_fac2f_row15_col3\" class=\"data row15 col3\" >2009-09-12 09:10:11</td>\n",
       "    </tr>\n",
       "    <tr>\n",
       "      <td id=\"T_fac2f_row16_col0\" class=\"data row16 col0\" >5035</td>\n",
       "      <td id=\"T_fac2f_row16_col1\" class=\"data row16 col1\" >Flavio Perona</td>\n",
       "      <td id=\"T_fac2f_row16_col2\" class=\"data row16 col2\" ></td>\n",
       "      <td id=\"T_fac2f_row16_col3\" class=\"data row16 col3\" >2009-09-05 00:52:31</td>\n",
       "    </tr>\n",
       "    <tr>\n",
       "      <td id=\"T_fac2f_row17_col0\" class=\"data row17 col0\" >5039</td>\n",
       "      <td id=\"T_fac2f_row17_col1\" class=\"data row17 col1\" >LJCR</td>\n",
       "      <td id=\"T_fac2f_row17_col2\" class=\"data row17 col2\" >Sidorenko construction</td>\n",
       "      <td id=\"T_fac2f_row17_col3\" class=\"data row17 col3\" >2009-04-18 21:28:33</td>\n",
       "    </tr>\n",
       "    <tr>\n",
       "      <td id=\"T_fac2f_row18_col0\" class=\"data row18 col0\" >5120</td>\n",
       "      <td id=\"T_fac2f_row18_col1\" class=\"data row18 col1\" >Flavio.Perona</td>\n",
       "      <td id=\"T_fac2f_row18_col2\" class=\"data row18 col2\" ></td>\n",
       "      <td id=\"T_fac2f_row18_col3\" class=\"data row18 col3\" >2009-01-02 11:56:02</td>\n",
       "    </tr>\n",
       "  </tbody>\n",
       "</table>\n"
      ],
      "text/plain": [
       "<pandas.io.formats.style.Styler object at 0x7fb71561f0d0>"
      ]
     },
     "execution_count": 8,
     "metadata": {},
     "output_type": "execute_result"
    }
   ],
   "source": [
    "show_history(35,9,5)"
   ]
  },
  {
   "cell_type": "markdown",
   "metadata": {},
   "source": [
    "`show_cover(v,k,t)` prints out the blocks of a $(v,k,t)$ covering design.  Be careful about using it for large coverings."
   ]
  },
  {
   "cell_type": "code",
   "execution_count": 9,
   "metadata": {},
   "outputs": [
    {
     "name": "stdout",
     "output_type": "stream",
     "text": [
      "C(7,3,2) has 7 blocks\n",
      "[1, 2, 3]\n",
      "[1, 4, 5]\n",
      "[1, 6, 7]\n",
      "[2, 4, 6]\n",
      "[2, 5, 7]\n",
      "[3, 4, 7]\n",
      "[3, 5, 6]\n"
     ]
    }
   ],
   "source": [
    "show_cover(7,3,2)"
   ]
  },
  {
   "cell_type": "markdown",
   "metadata": {},
   "source": [
    "## Handling covering designs\n",
    "\n",
    "The above functions are to get information about results in the database.  If you want to get the actual objects to manipulate, <code>get_cover</code>$(v,k,t)$ returns the covering design in the database, as a list $[v,k,t,L]$, where $L$ is a list of the blocks of the covering design."
   ]
  },
  {
   "cell_type": "code",
   "execution_count": 10,
   "metadata": {},
   "outputs": [
    {
     "name": "stdout",
     "output_type": "stream",
     "text": [
      "C(7,3,2) has 7 blocks\n"
     ]
    },
    {
     "data": {
      "text/plain": [
       "[7,\n",
       " 3,\n",
       " 2,\n",
       " [[1, 2, 3], [1, 4, 5], [1, 6, 7], [2, 4, 6], [2, 5, 7], [3, 4, 7], [3, 5, 6]]]"
      ]
     },
     "execution_count": 10,
     "metadata": {},
     "output_type": "execute_result"
    }
   ],
   "source": [
    "C=get_cover(7,3,2)\n",
    "C"
   ]
  },
  {
   "cell_type": "markdown",
   "metadata": {},
   "source": [
    "As an example of how to handle covers, here is a function <code>is_cover(C)</code> which verifies that $C$ is a covering design. This is for illustration; <i>do not</i> use it on a covering design with large parameters."
   ]
  },
  {
   "cell_type": "code",
   "execution_count": 11,
   "metadata": {},
   "outputs": [
    {
     "data": {
      "text/plain": [
       "True"
      ]
     },
     "execution_count": 11,
     "metadata": {},
     "output_type": "execute_result"
    }
   ],
   "source": [
    "def is_cover(C):\n",
    "    v = C[0]\n",
    "    k = C[1]\n",
    "    t = C[2]\n",
    "    L = C[3]\n",
    "\n",
    "    # check that each t-set is contained in at least one block\n",
    "    for c in Combinations(range(1,v+1),t):\n",
    "        found_it = False\n",
    "        for b in L:\n",
    "            if Set(c).issubset(Set(b)):\n",
    "                found_it = True\n",
    "                break\n",
    "\n",
    "        if found_it == False:\n",
    "            print(f'{c} was not contained in any block')\n",
    "            return False\n",
    "\n",
    "    return True\n",
    "\n",
    "is_cover(C)"
   ]
  },
  {
   "cell_type": "code",
   "execution_count": null,
   "metadata": {},
   "outputs": [],
   "source": []
  }
 ],
 "metadata": {
  "kernelspec": {
   "display_name": "SageMath 9.5",
   "language": "sage",
   "name": "sagemath"
  },
  "language_info": {
   "codemirror_mode": {
    "name": "ipython",
    "version": 3
   },
   "file_extension": ".py",
   "mimetype": "text/x-python",
   "name": "python",
   "nbconvert_exporter": "python",
   "pygments_lexer": "ipython3",
   "version": "3.9.9"
  }
 },
 "nbformat": 4,
 "nbformat_minor": 4
}
