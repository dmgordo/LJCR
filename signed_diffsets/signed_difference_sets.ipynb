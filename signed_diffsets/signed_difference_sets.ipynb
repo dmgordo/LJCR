{
 "cells": [
  {
   "cell_type": "markdown",
   "metadata": {},
   "source": [
    "# Signed Difference Sets\n",
    "\n",
    "A $(v,k,\\lambda)$ difference set in a group $G$ of order $v$ is a subset\n",
    "$\\{d_1, d_2, \\ldots,d_k\\}$ of $G$ such that $D=\\sum d_i$ in the group\n",
    "ring $\\mathbb{Z}[G]$ satisfies \n",
    "\n",
    "$$D D^{-1} = n + \\lambda G,$$\n",
    "\n",
    "where\n",
    "$n=k-\\lambda$.\n",
    "If $D=\\sum s_i d_i$, where the $s_i \\in \\{ \\pm 1\\}$, satisfies the\n",
    "same equation, we call it a <i>signed difference set</i>.  My paper <i>Signed Difference Sets</i> (to appear in <i>Designs, Codes and Cryptography</i>) proves various facts and existence results about these objects.\n",
    "\n",
    "\n",
    "\n",
    "This notebook contains data on signed difference sets in yaml format, and simple code to access it.  The first line of the notebook reads in the dataset and code."
   ]
  },
  {
   "cell_type": "code",
   "execution_count": 1,
   "metadata": {},
   "outputs": [
    {
     "name": "stdout",
     "output_type": "stream",
     "text": [
      "read 1951 data items\n",
      "\n"
     ]
    }
   ],
   "source": [
    "load('sds_code.py')"
   ]
  },
  {
   "cell_type": "markdown",
   "metadata": {},
   "source": [
    "This cell lets you search the dataset for ranges of signed difference sets, or ones with a certain existence status or group type.  To get information on certain ones, substitute numbers of interest in the ranges of $v$, $k$, and $\\lambda$."
   ]
  },
  {
   "cell_type": "code",
   "execution_count": 3,
   "metadata": {},
   "outputs": [
    {
     "data": {
      "text/html": [
       "<style type=\"text/css\">\n",
       "</style>\n",
       "<table id=\"T_1eb68\">\n",
       "  <thead>\n",
       "    <tr>\n",
       "      <th id=\"T_1eb68_level0_col0\" class=\"col_heading level0 col0\" >v</th>\n",
       "      <th id=\"T_1eb68_level0_col1\" class=\"col_heading level0 col1\" >k</th>\n",
       "      <th id=\"T_1eb68_level0_col2\" class=\"col_heading level0 col2\" >lambda</th>\n",
       "      <th id=\"T_1eb68_level0_col3\" class=\"col_heading level0 col3\" >n</th>\n",
       "      <th id=\"T_1eb68_level0_col4\" class=\"col_heading level0 col4\" >status</th>\n",
       "      <th id=\"T_1eb68_level0_col5\" class=\"col_heading level0 col5\" >comment</th>\n",
       "    </tr>\n",
       "  </thead>\n",
       "  <tbody>\n",
       "    <tr>\n",
       "      <td id=\"T_1eb68_row0_col0\" class=\"data row0 col0\" >20</td>\n",
       "      <td id=\"T_1eb68_row0_col1\" class=\"data row0 col1\" >11</td>\n",
       "      <td id=\"T_1eb68_row0_col2\" class=\"data row0 col2\" >2</td>\n",
       "      <td id=\"T_1eb68_row0_col3\" class=\"data row0 col3\" >9</td>\n",
       "      <td id=\"T_1eb68_row0_col4\" class=\"data row0 col4\" >All</td>\n",
       "      <td id=\"T_1eb68_row0_col5\" class=\"data row0 col5\" >Orbit exhaust</td>\n",
       "    </tr>\n",
       "    <tr>\n",
       "      <td id=\"T_1eb68_row1_col0\" class=\"data row1 col0\" >20</td>\n",
       "      <td id=\"T_1eb68_row1_col1\" class=\"data row1 col1\" >17</td>\n",
       "      <td id=\"T_1eb68_row1_col2\" class=\"data row1 col2\" >8</td>\n",
       "      <td id=\"T_1eb68_row1_col3\" class=\"data row1 col3\" >9</td>\n",
       "      <td id=\"T_1eb68_row1_col4\" class=\"data row1 col4\" >No</td>\n",
       "      <td id=\"T_1eb68_row1_col5\" class=\"data row1 col5\" >Orbit Exhaust</td>\n",
       "    </tr>\n",
       "    <tr>\n",
       "      <td id=\"T_1eb68_row2_col0\" class=\"data row2 col0\" >23</td>\n",
       "      <td id=\"T_1eb68_row2_col1\" class=\"data row2 col1\" >12</td>\n",
       "      <td id=\"T_1eb68_row2_col2\" class=\"data row2 col2\" >4</td>\n",
       "      <td id=\"T_1eb68_row2_col3\" class=\"data row2 col3\" >8</td>\n",
       "      <td id=\"T_1eb68_row2_col4\" class=\"data row2 col4\" >All</td>\n",
       "      <td id=\"T_1eb68_row2_col5\" class=\"data row2 col5\" >Paley and zero</td>\n",
       "    </tr>\n",
       "    <tr>\n",
       "      <td id=\"T_1eb68_row3_col0\" class=\"data row3 col0\" >23</td>\n",
       "      <td id=\"T_1eb68_row3_col1\" class=\"data row3 col1\" >15</td>\n",
       "      <td id=\"T_1eb68_row3_col2\" class=\"data row3 col2\" >7</td>\n",
       "      <td id=\"T_1eb68_row3_col3\" class=\"data row3 col3\" >8</td>\n",
       "      <td id=\"T_1eb68_row3_col4\" class=\"data row3 col4\" >No</td>\n",
       "      <td id=\"T_1eb68_row3_col5\" class=\"data row3 col5\" >Orbit Exhaust</td>\n",
       "    </tr>\n",
       "    <tr>\n",
       "      <td id=\"T_1eb68_row4_col0\" class=\"data row4 col0\" >29</td>\n",
       "      <td id=\"T_1eb68_row4_col1\" class=\"data row4 col1\" >16</td>\n",
       "      <td id=\"T_1eb68_row4_col2\" class=\"data row4 col2\" >3</td>\n",
       "      <td id=\"T_1eb68_row4_col3\" class=\"data row4 col3\" >13</td>\n",
       "      <td id=\"T_1eb68_row4_col4\" class=\"data row4 col4\" >No</td>\n",
       "      <td id=\"T_1eb68_row4_col5\" class=\"data row4 col5\" >Orbit Exhaust</td>\n",
       "    </tr>\n",
       "    <tr>\n",
       "      <td id=\"T_1eb68_row5_col0\" class=\"data row5 col0\" >35</td>\n",
       "      <td id=\"T_1eb68_row5_col1\" class=\"data row5 col1\" >19</td>\n",
       "      <td id=\"T_1eb68_row5_col2\" class=\"data row5 col2\" >3</td>\n",
       "      <td id=\"T_1eb68_row5_col3\" class=\"data row5 col3\" >16</td>\n",
       "      <td id=\"T_1eb68_row5_col4\" class=\"data row5 col4\" >All</td>\n",
       "      <td id=\"T_1eb68_row5_col5\" class=\"data row5 col5\" >Orbit exhaust</td>\n",
       "    </tr>\n",
       "    <tr>\n",
       "      <td id=\"T_1eb68_row6_col0\" class=\"data row6 col0\" >46</td>\n",
       "      <td id=\"T_1eb68_row6_col1\" class=\"data row6 col1\" >19</td>\n",
       "      <td id=\"T_1eb68_row6_col2\" class=\"data row6 col2\" >6</td>\n",
       "      <td id=\"T_1eb68_row6_col3\" class=\"data row6 col3\" >13</td>\n",
       "      <td id=\"T_1eb68_row6_col4\" class=\"data row6 col4\" >No</td>\n",
       "      <td id=\"T_1eb68_row6_col5\" class=\"data row6 col5\" >Orbit Exhaust</td>\n",
       "    </tr>\n",
       "    <tr>\n",
       "      <td id=\"T_1eb68_row7_col0\" class=\"data row7 col0\" >51</td>\n",
       "      <td id=\"T_1eb68_row7_col1\" class=\"data row7 col1\" >19</td>\n",
       "      <td id=\"T_1eb68_row7_col2\" class=\"data row7 col2\" >3</td>\n",
       "      <td id=\"T_1eb68_row7_col3\" class=\"data row7 col3\" >16</td>\n",
       "      <td id=\"T_1eb68_row7_col4\" class=\"data row7 col4\" >All</td>\n",
       "      <td id=\"T_1eb68_row7_col5\" class=\"data row7 col5\" >Orbit exhaust</td>\n",
       "    </tr>\n",
       "    <tr>\n",
       "      <td id=\"T_1eb68_row8_col0\" class=\"data row8 col0\" >53</td>\n",
       "      <td id=\"T_1eb68_row8_col1\" class=\"data row8 col1\" >17</td>\n",
       "      <td id=\"T_1eb68_row8_col2\" class=\"data row8 col2\" >4</td>\n",
       "      <td id=\"T_1eb68_row8_col3\" class=\"data row8 col3\" >13</td>\n",
       "      <td id=\"T_1eb68_row8_col4\" class=\"data row8 col4\" >No</td>\n",
       "      <td id=\"T_1eb68_row8_col5\" class=\"data row8 col5\" >Orbit Exhaust</td>\n",
       "    </tr>\n",
       "    <tr>\n",
       "      <td id=\"T_1eb68_row9_col0\" class=\"data row9 col0\" >61</td>\n",
       "      <td id=\"T_1eb68_row9_col1\" class=\"data row9 col1\" >16</td>\n",
       "      <td id=\"T_1eb68_row9_col2\" class=\"data row9 col2\" >3</td>\n",
       "      <td id=\"T_1eb68_row9_col3\" class=\"data row9 col3\" >13</td>\n",
       "      <td id=\"T_1eb68_row9_col4\" class=\"data row9 col4\" >All</td>\n",
       "      <td id=\"T_1eb68_row9_col5\" class=\"data row9 col5\" >Quartic residues and zero</td>\n",
       "    </tr>\n",
       "    <tr>\n",
       "      <td id=\"T_1eb68_row10_col0\" class=\"data row10 col0\" >91</td>\n",
       "      <td id=\"T_1eb68_row10_col1\" class=\"data row10 col1\" >19</td>\n",
       "      <td id=\"T_1eb68_row10_col2\" class=\"data row10 col2\" >3</td>\n",
       "      <td id=\"T_1eb68_row10_col3\" class=\"data row10 col3\" >16</td>\n",
       "      <td id=\"T_1eb68_row10_col4\" class=\"data row10 col4\" >No</td>\n",
       "      <td id=\"T_1eb68_row10_col5\" class=\"data row10 col5\" >Orbit Exhaust</td>\n",
       "    </tr>\n",
       "  </tbody>\n",
       "</table>\n"
      ],
      "text/plain": [
       "<pandas.io.formats.style.Styler object at 0x7f9b2f19f640>"
      ]
     },
     "execution_count": 3,
     "metadata": {},
     "output_type": "execute_result"
    }
   ],
   "source": [
    "T = init_tab()\n",
    "for D in signed_diffsets:\n",
    "    v = get_v(D)\n",
    "    k = get_k(D)\n",
    "    lam = get_lam(D)\n",
    "    G = get_G(D)\n",
    "    if get_status(D) in ['All','Yes','No','Open']: # allow any status\n",
    "        if v in range(20,100):\n",
    "            if k in range(10,20):\n",
    "                if lam in range(2,10):\n",
    "                    if len(G)==1: # only look at cyclic groups\n",
    "                        add_tab_entry(T,D)\n",
    "show_tab(T)"
   ]
  },
  {
   "cell_type": "markdown",
   "metadata": {},
   "source": [
    "## Viewing existence results and signed difference sets\n",
    "\n",
    "After reading the data in <code>sds.json</code>, <code>sds_code.py</code> gives functions to check for signed difference sets $D$ in the dataset.  They are reported as sets $P$ and $N$, the elements of $D$ with signs $1$ and $-1$, respectively (as is done for circulant weighing matrices, which signed difference sets are also a generalization of).\n",
    "\n",
    "The arguments to <code>get_sds_data()</code> are $v$, $k$, $\\lambda$ and $G$, where the group is given by its <i>invariant factors</i> $[n_1,n_2,\\ldots,n_t]$, where $n_i | n_{i+1}$.  If the group is given in a nonstandard way (say by its elementary divisors, or with the invariant factors in a nonincreasing order), the set will not be found."
   ]
  },
  {
   "cell_type": "code",
   "execution_count": 4,
   "metadata": {},
   "outputs": [
    {
     "name": "stdout",
     "output_type": "stream",
     "text": [
      "There is exactly 1 SDS(11,6,1) in group [11]\n",
      "Reference: Paley and zero\n",
      "\n",
      "P = [1, 3, 4, 5, 9], N = [0]\n"
     ]
    }
   ],
   "source": [
    "get_sds_data(11,6,1,[11])"
   ]
  },
  {
   "cell_type": "markdown",
   "metadata": {},
   "source": [
    "Nearly all known signed difference sets that are not difference sets are cyclic, so <code>get_cyclic_sds_data()</code> searches parameters without the group being written out."
   ]
  },
  {
   "cell_type": "code",
   "execution_count": 5,
   "metadata": {},
   "outputs": [
    {
     "name": "stdout",
     "output_type": "stream",
     "text": [
      "There are exactly 2 SDS(89,33,1) in group [89]\n",
      "Reference: Orbit exhaust\n",
      "\n",
      "0:\tP = [1, 2, 4, 5, 8, 10, 16, 17, 20, 32, 34, 39, 40, 45, 47, 53, 64, 67, 68, 71, 78, 80], N = [33, 41, 43, 61, 65, 66, 75, 77, 82, 83, 86]\n",
      "1:\tP = [11, 13, 15, 22, 25, 26, 30, 31, 35, 44, 50, 51, 52, 57, 60, 62, 70, 73, 81, 85, 87, 88], N = [33, 41, 43, 61, 65, 66, 75, 77, 82, 83, 86]\n"
     ]
    }
   ],
   "source": [
    "get_cyclic_sds_data(89,33,1)"
   ]
  },
  {
   "cell_type": "markdown",
   "metadata": {},
   "source": [
    "Currently there is only one known nontrivial signed difference set in a noncyclic group:"
   ]
  },
  {
   "cell_type": "code",
   "execution_count": 6,
   "metadata": {},
   "outputs": [
    {
     "name": "stdout",
     "output_type": "stream",
     "text": [
      "There is at least 1 SDS(18,13,4) in group [3, 6]\n",
      "Reference: Orbit Exhaust\n",
      "\n",
      "SDS given as elements of [2, 3, 3]\n",
      "P = [[0, 0, 1], [0, 1, 1], [0, 2, 1], [0, 0, 2], [0, 1, 2], [0, 2, 2], [1, 2, 0], [1, 2, 1], [1, 2, 2], [1, 0, 1], [1, 1, 0]], N = [[1, 0, 0], [1, 1, 1]]\n"
     ]
    }
   ],
   "source": [
    "get_sds_data(18,13,4,[3,6])"
   ]
  },
  {
   "cell_type": "markdown",
   "metadata": {},
   "source": [
    "To see all signed difference sets for $(v,k,\\lambda)$ in any group, use <code>get_sds_allgroups()</code>."
   ]
  },
  {
   "cell_type": "code",
   "execution_count": 7,
   "metadata": {},
   "outputs": [
    {
     "name": "stdout",
     "output_type": "stream",
     "text": [
      "No SDS(18,13,4) exists in group [18]\n",
      "Reference: Orbit Search\n",
      "\n",
      "\n",
      "There is at least 1 SDS(18,13,4) in group [3,6]\n",
      "Reference: Orbit Exhaust\n",
      "\n",
      "SDS given as elements of [2, 3, 3]\n",
      "P = [[0, 0, 1], [0, 1, 1], [0, 2, 1], [0, 0, 2], [0, 1, 2], [0, 2, 2], [1, 2, 0], [1, 2, 1], [1, 2, 2], [1, 0, 1], [1, 1, 0]], N = [[1, 0, 0], [1, 1, 1]]\n",
      "\n"
     ]
    }
   ],
   "source": [
    "get_sds_allgroups(18,13,4)"
   ]
  },
  {
   "cell_type": "markdown",
   "metadata": {},
   "source": [
    "It's easy to do a search for particular cases.  For example, many signed difference sets consist of P being a difference set and $|N|=\\{0\\}$. If we only want to see signed difference sets with $|N|>1$, we can do the following:"
   ]
  },
  {
   "cell_type": "code",
   "execution_count": 9,
   "metadata": {},
   "outputs": [
    {
     "name": "stdout",
     "output_type": "stream",
     "text": [
      "\n",
      "SDS(18,13,4,[3,6]) as elements of [2, 3, 3]\n",
      "\tP=[[0, 0, 1], [0, 1, 1], [0, 2, 1], [0, 0, 2], [0, 1, 2], [0, 2, 2], [1, 2, 0], [1, 2, 1], [1, 2, 2], [1, 0, 1], [1, 1, 0]], N=[[1, 0, 0], [1, 1, 1]]\n",
      "\n",
      "SDS(19,13,2,[19])\n",
      "\tP=[0, 1, 2, 3, 7, 8, 11, 12, 14, 18], N=[10, 13, 15]\n",
      "\n",
      "SDS(20,11,2,[20])\n",
      "\tP=[4, 8, 10, 11, 12, 13, 16, 17, 19], N=[5, 15]\n",
      "\n",
      "SDS(35,19,3,[35])\n",
      "\tP=[1, 2, 4, 5, 8, 9, 10, 11, 16, 18, 20, 22, 23, 29, 32], N=[0, 15, 25, 30]\n",
      "\n",
      "SDS(51,19,3,[51])\n",
      "\tP=[3, 6, 12, 19, 24, 25, 27, 35, 38, 39, 43, 45, 47, 48, 49, 50], N=[0, 17, 34]\n",
      "\n",
      "SDS(67,49,12,[67])\n",
      "\tP=[1, 2, 4, 7, 9, 12, 13, 14, 15, 16, 18, 19, 23, 25, 27, 29, 30, 33, 34, 37, 38, 42, 46, 47, 48, 49, 52, 53, 54, 55, 56, 58, 60, 61, 62, 63, 64, 65, 66], N=[0, 3, 20, 32, 41, 43, 44, 45, 50, 57]\n",
      "\n",
      "SDS(67,49,20,[67])\n",
      "\tP=[0, 2, 3, 4, 5, 7, 10, 11, 14, 15, 16, 17, 18, 19, 20, 22, 24, 25, 26, 27, 30, 32, 33, 35, 36, 38, 39, 44, 45, 46, 49, 51, 53, 54, 55, 56, 57, 58, 59, 61, 62, 63, 66], N=[23, 41, 43, 47, 50, 64]\n",
      "\n",
      "SDS(71,51,1,[71])\n",
      "\tP=[0, 1, 5, 7, 9, 12, 16, 18, 19, 21, 22, 23, 24, 25, 28, 32, 33, 34, 35, 39, 44, 45, 47, 49, 52, 53, 54, 57, 60, 61, 69], N=[2, 10, 14, 17, 27, 36, 37, 38, 42, 43, 46, 48, 50, 51, 56, 64, 66, 67, 68, 70]\n",
      "\n",
      "SDS(73,36,4,[73])\n",
      "\tP=[1, 2, 4, 8, 9, 11, 15, 16, 18, 21, 22, 30, 32, 36, 37, 41, 42, 44, 47, 55, 57, 60, 64, 65, 69, 71, 72], N=[25, 27, 35, 49, 50, 54, 61, 67, 70]\n",
      "\n",
      "SDS(78,53,28,[78])\n",
      "\tP=[1, 3, 5, 6, 7, 8, 11, 12, 15, 17, 18, 19, 21, 24, 25, 26, 27, 28, 30, 35, 36, 40, 41, 42, 43, 44, 46, 47, 48, 49, 51, 52, 54, 55, 56, 57, 58, 59, 60, 61, 62, 63, 64, 66, 68, 71, 72, 74, 75, 76], N=[13, 39, 65]\n",
      "\n",
      "SDS(89,33,1,[89])\n",
      "\tP=[1, 2, 4, 5, 8, 10, 16, 17, 20, 32, 34, 39, 40, 45, 47, 53, 64, 67, 68, 71, 78, 80], N=[33, 41, 43, 61, 65, 66, 75, 77, 82, 83, 86]\n",
      "\n",
      "SDS(89,33,1,[89])\n",
      "\tP=[11, 13, 15, 22, 25, 26, 30, 31, 35, 44, 50, 51, 52, 57, 60, 62, 70, 73, 81, 85, 87, 88], N=[33, 41, 43, 61, 65, 66, 75, 77, 82, 83, 86]\n",
      "\n",
      "SDS(93,32,7,[93])\n",
      "\tP=[3, 4, 6, 7, 15, 16, 20, 24, 27, 28, 30, 31, 33, 35, 36, 38, 42, 47, 49, 57, 59, 62, 63, 72, 75, 80, 81, 82, 87], N=[48, 54, 84]\n",
      "\n",
      "SDS(93,73,48,[93])\n",
      "\tP=[0, 1, 2, 3, 5, 6, 8, 10, 11, 13, 14, 15, 17, 18, 19, 22, 23, 24, 25, 26, 27, 29, 30, 32, 33, 34, 36, 37, 40, 41, 42, 43, 44, 46, 50, 51, 52, 53, 55, 56, 57, 58, 61, 63, 64, 65, 66, 67, 68, 69, 70, 71, 72, 73, 74, 75, 76, 77, 78, 79, 81, 83, 85, 86, 87, 88, 89, 90, 91, 92], N=[48, 54, 84]\n",
      "\n",
      "SDS(104,29,4,[104])\n",
      "\tP=[11, 12, 16, 23, 24, 26, 33, 44, 53, 55, 57, 58, 60, 61, 67, 69, 73, 74, 77, 80, 82, 88, 92, 97, 98], N=[13, 39, 65, 91]\n",
      "\n",
      "SDS(111,66,17,[111])\n",
      "\tP=[1, 2, 7, 9, 10, 11, 12, 14, 15, 16, 18, 20, 24, 29, 31, 32, 33, 34, 39, 41, 46, 49, 51, 52, 55, 57, 61, 62, 63, 65, 66, 68, 69, 70, 74, 75, 76, 77, 81, 84, 88, 89, 90, 92, 94, 95, 98, 100, 101, 103, 104, 105, 106, 108, 110], N=[0, 26, 37, 38, 44, 47, 53, 71, 83, 86, 107]\n",
      "\n",
      "SDS(111,66,17,[111])\n",
      "\tP=[2, 3, 4, 14, 15, 18, 20, 21, 24, 25, 26, 27, 28, 29, 30, 31, 32, 36, 38, 39, 40, 44, 47, 48, 51, 52, 53, 55, 57, 58, 61, 64, 66, 67, 68, 69, 71, 73, 74, 76, 78, 83, 85, 86, 88, 89, 92, 94, 98, 99, 102, 103, 105, 106, 107], N=[0, 11, 37, 41, 62, 65, 77, 95, 101, 104, 110]\n",
      "\n",
      "SDS(111,66,17,[111])\n",
      "\tP=[1, 2, 3, 4, 7, 9, 10, 11, 12, 14, 16, 20, 21, 25, 27, 28, 29, 30, 32, 33, 34, 36, 40, 41, 46, 48, 49, 58, 62, 63, 64, 65, 67, 68, 70, 73, 74, 75, 77, 78, 81, 84, 85, 89, 90, 92, 95, 98, 99, 100, 101, 102, 104, 108, 110], N=[0, 26, 37, 38, 44, 47, 53, 71, 83, 86, 107]\n",
      "\n",
      "SDS(219,83,19,[219])\n",
      "\tP=[9, 15, 17, 18, 19, 21, 23, 30, 34, 36, 38, 39, 42, 46, 53, 57, 59, 60, 68, 69, 72, 73, 75, 76, 78, 79, 81, 84, 85, 87, 92, 93, 97, 105, 106, 107, 114, 117, 118, 119, 120, 121, 129, 136, 138, 139, 144, 146, 147, 149, 150, 152, 153, 156, 158, 162, 163, 168, 169, 170, 174, 179, 183, 184, 186, 191, 194, 199, 201, 205, 209, 210, 212, 214], N=[27, 54, 108, 123, 171, 195, 207, 213, 216]\n",
      "\n",
      "SDS(219,172,108,[219])\n",
      "\tP=[0, 1, 2, 3, 4, 5, 6, 7, 8, 9, 10, 11, 12, 13, 14, 15, 16, 18, 20, 21, 22, 24, 25, 26, 28, 29, 30, 31, 32, 33, 35, 36, 37, 39, 40, 41, 42, 43, 44, 45, 47, 48, 49, 50, 52, 55, 56, 57, 58, 60, 61, 62, 63, 64, 65, 66, 67, 69, 70, 71, 72, 74, 75, 77, 78, 80, 81, 82, 83, 84, 86, 87, 88, 89, 90, 91, 93, 94, 95, 96, 98, 100, 101, 103, 104, 105, 109, 110, 111, 112, 113, 114, 115, 116, 117, 120, 122, 124, 125, 126, 127, 128, 129, 130, 131, 132, 133, 134, 137, 138, 140, 141, 142, 143, 144, 145, 147, 148, 150, 151, 153, 154, 155, 156, 157, 160, 161, 162, 164, 165, 166, 167, 168, 172, 173, 174, 175, 176, 178, 180, 181, 182, 183, 185, 186, 187, 188, 190, 192, 193, 196, 197, 200, 201, 202, 203, 206, 208, 210, 211, 215, 217, 218], N=[27, 54, 108, 123, 171, 195, 207, 213, 216]\n"
     ]
    }
   ],
   "source": [
    "for D in signed_diffsets:   # search through whole dataset\n",
    "    if get_status(D) in ['All','Yes']:   # ignore cases without a known set\n",
    "        for i in range(num_sets(D)):\n",
    "            if len(get_N(D,i))>1:   # ignore signed difference sets with |N|=1\n",
    "                print_set(D,i)      # print all the other known sets"
   ]
  },
  {
   "cell_type": "markdown",
   "metadata": {},
   "source": [
    "## Handling signed difference sets\n",
    "\n",
    "The above functions are to get information about results in the database.  If you want to get the actual objects to manipulate, <code>get_sds</code>$(v,k,\\lambda,G,i)$ returns the $i$th such signed difference set in the database, as a list $[v,k,\\lambda,G,P,N]$."
   ]
  },
  {
   "cell_type": "code",
   "execution_count": 10,
   "metadata": {},
   "outputs": [
    {
     "name": "stdout",
     "output_type": "stream",
     "text": [
      "[11, 6, 1, [11], [1, 3, 4, 5, 9], [0]]\n"
     ]
    }
   ],
   "source": [
    "D=get_sds(11,6,1,[11],0)\n",
    "print(D)"
   ]
  },
  {
   "cell_type": "markdown",
   "metadata": {},
   "source": [
    "<code>sds_as_gp_ring_elt()</code> returns a signed difference set as an element of the group ring $\\mathbb{Z}[G]$:\n",
    "$\\sum_{g \\in G} a_g g$.  This is often a more useful form to work with."
   ]
  },
  {
   "cell_type": "code",
   "execution_count": 11,
   "metadata": {},
   "outputs": [
    {
     "data": {
      "text/plain": [
       "-(0) + (1) + (3) + (4) + (5) + (9)"
      ]
     },
     "execution_count": 11,
     "metadata": {},
     "output_type": "execute_result"
    }
   ],
   "source": [
    "A=sds_as_gp_ring_elt(get_sds(11,6,1,[11],0))\n",
    "A"
   ]
  },
  {
   "cell_type": "markdown",
   "metadata": {},
   "source": [
    "<code>gp_ring_elt_map(A,t)</code> maps each group ring element $g \\longrightarrow g^t$.  Using this we can check a putative signed difference set by checking if $A \\cdot A^{-1} = n + \\lambda G$."
   ]
  },
  {
   "cell_type": "code",
   "execution_count": 12,
   "metadata": {},
   "outputs": [
    {
     "data": {
      "text/plain": [
       "-(0) + (2) + (6) + (7) + (8) + (10)"
      ]
     },
     "execution_count": 12,
     "metadata": {},
     "output_type": "execute_result"
    }
   ],
   "source": [
    "B=gp_ring_elt_map(A,-1)\n",
    "B"
   ]
  },
  {
   "cell_type": "code",
   "execution_count": 13,
   "metadata": {},
   "outputs": [
    {
     "data": {
      "text/plain": [
       "6*(0) + (1) + (2) + (3) + (4) + (5) + (6) + (7) + (8) + (9) + (10)"
      ]
     },
     "execution_count": 13,
     "metadata": {},
     "output_type": "execute_result"
    }
   ],
   "source": [
    "A*B"
   ]
  },
  {
   "cell_type": "markdown",
   "metadata": {},
   "source": [
    "This shows that $A$ really is a signed difference set.  <code>is_sds()</code> does this to check that database entries are correct."
   ]
  },
  {
   "cell_type": "code",
   "execution_count": 14,
   "metadata": {},
   "outputs": [
    {
     "data": {
      "text/plain": [
       "True"
      ]
     },
     "execution_count": 14,
     "metadata": {},
     "output_type": "execute_result"
    }
   ],
   "source": [
    "is_sds(get_sds(18,13,4,[3,6],0))"
   ]
  },
  {
   "cell_type": "code",
   "execution_count": null,
   "metadata": {},
   "outputs": [],
   "source": []
  }
 ],
 "metadata": {
  "kernelspec": {
   "display_name": "SageMath 9.5",
   "language": "sage",
   "name": "sagemath"
  },
  "language_info": {
   "codemirror_mode": {
    "name": "ipython",
    "version": 3
   },
   "file_extension": ".py",
   "mimetype": "text/x-python",
   "name": "python",
   "nbconvert_exporter": "python",
   "pygments_lexer": "ipython3",
   "version": "3.9.9"
  }
 },
 "nbformat": 4,
 "nbformat_minor": 4
}
