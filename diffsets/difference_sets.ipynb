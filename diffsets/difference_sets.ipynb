{
 "cells": [
  {
   "cell_type": "markdown",
   "metadata": {},
   "source": [
    "# Difference Sets\n",
    "\n",
    "A $(v,k,\\lambda)$ difference set in a group $G$ of order $v$ is a subset\n",
    "$\\{d_1, d_2, \\ldots,d_k\\}$ of $G$ such that $D=\\sum d_i$ in the group\n",
    "ring $\\mathbb{Z}[G]$ satisfies \n",
    "\n",
    "$$D D^{-1} = n + \\lambda G,$$\n",
    "\n",
    "where\n",
    "$n=k-\\lambda$.\n",
    "\n",
    "This notebook contains data on difference sets in yaml format, and simple code to access it.  The first line of the notebook reads in the dataset and code:"
   ]
  },
  {
   "cell_type": "code",
   "execution_count": 1,
   "metadata": {},
   "outputs": [
    {
     "name": "stdout",
     "output_type": "stream",
     "text": [
      "read 1442276 data items\n",
      "\n"
     ]
    }
   ],
   "source": [
    "load('ds_code.py')"
   ]
  },
  {
   "cell_type": "markdown",
   "metadata": {},
   "source": [
    "The website <https://dmgordon.org> allows searches for particular values or ranges of the parameters.  If you just want to replicate that here, you can ignore everything below, and just substitute numbers of interest in the ranges of $v$, $k$, and $\\lambda$."
   ]
  },
  {
   "cell_type": "code",
   "execution_count": 2,
   "metadata": {},
   "outputs": [
    {
     "data": {
      "text/html": [
       "<style type=\"text/css\">\n",
       "</style>\n",
       "<table id=\"T_2d3f5\">\n",
       "  <thead>\n",
       "    <tr>\n",
       "      <th id=\"T_2d3f5_level0_col0\" class=\"col_heading level0 col0\" >v</th>\n",
       "      <th id=\"T_2d3f5_level0_col1\" class=\"col_heading level0 col1\" >k</th>\n",
       "      <th id=\"T_2d3f5_level0_col2\" class=\"col_heading level0 col2\" >lambda</th>\n",
       "      <th id=\"T_2d3f5_level0_col3\" class=\"col_heading level0 col3\" >n</th>\n",
       "      <th id=\"T_2d3f5_level0_col4\" class=\"col_heading level0 col4\" >status</th>\n",
       "      <th id=\"T_2d3f5_level0_col5\" class=\"col_heading level0 col5\" >comment</th>\n",
       "    </tr>\n",
       "  </thead>\n",
       "  <tbody>\n",
       "    <tr>\n",
       "      <td id=\"T_2d3f5_row0_col0\" class=\"data row0 col0\" >23</td>\n",
       "      <td id=\"T_2d3f5_row0_col1\" class=\"data row0 col1\" >11</td>\n",
       "      <td id=\"T_2d3f5_row0_col2\" class=\"data row0 col2\" >5</td>\n",
       "      <td id=\"T_2d3f5_row0_col3\" class=\"data row0 col3\" >6</td>\n",
       "      <td id=\"T_2d3f5_row0_col4\" class=\"data row0 col4\" >All</td>\n",
       "      <td id=\"T_2d3f5_row0_col5\" class=\"data row0 col5\" >Paley</td>\n",
       "    </tr>\n",
       "    <tr>\n",
       "      <td id=\"T_2d3f5_row1_col0\" class=\"data row1 col0\" >27</td>\n",
       "      <td id=\"T_2d3f5_row1_col1\" class=\"data row1 col1\" >13</td>\n",
       "      <td id=\"T_2d3f5_row1_col2\" class=\"data row1 col2\" >6</td>\n",
       "      <td id=\"T_2d3f5_row1_col3\" class=\"data row1 col3\" >7</td>\n",
       "      <td id=\"T_2d3f5_row1_col4\" class=\"data row1 col4\" >No</td>\n",
       "      <td id=\"T_2d3f5_row1_col5\" class=\"data row1 col5\" >Lander, Theorem 4.38</td>\n",
       "    </tr>\n",
       "    <tr>\n",
       "      <td id=\"T_2d3f5_row2_col0\" class=\"data row2 col0\" >31</td>\n",
       "      <td id=\"T_2d3f5_row2_col1\" class=\"data row2 col1\" >10</td>\n",
       "      <td id=\"T_2d3f5_row2_col2\" class=\"data row2 col2\" >3</td>\n",
       "      <td id=\"T_2d3f5_row2_col3\" class=\"data row2 col3\" >7</td>\n",
       "      <td id=\"T_2d3f5_row2_col4\" class=\"data row2 col4\" >No</td>\n",
       "      <td id=\"T_2d3f5_row2_col5\" class=\"data row2 col5\" >Lander, Theorem 4.38</td>\n",
       "    </tr>\n",
       "    <tr>\n",
       "      <td id=\"T_2d3f5_row3_col0\" class=\"data row3 col0\" >31</td>\n",
       "      <td id=\"T_2d3f5_row3_col1\" class=\"data row3 col1\" >15</td>\n",
       "      <td id=\"T_2d3f5_row3_col2\" class=\"data row3 col2\" >7</td>\n",
       "      <td id=\"T_2d3f5_row3_col3\" class=\"data row3 col3\" >8</td>\n",
       "      <td id=\"T_2d3f5_row3_col4\" class=\"data row3 col4\" >All</td>\n",
       "      <td id=\"T_2d3f5_row3_col5\" class=\"data row3 col5\" >(4,2) Singer</td>\n",
       "    </tr>\n",
       "    <tr>\n",
       "      <td id=\"T_2d3f5_row4_col0\" class=\"data row4 col0\" >35</td>\n",
       "      <td id=\"T_2d3f5_row4_col1\" class=\"data row4 col1\" >17</td>\n",
       "      <td id=\"T_2d3f5_row4_col2\" class=\"data row4 col2\" >8</td>\n",
       "      <td id=\"T_2d3f5_row4_col3\" class=\"data row4 col3\" >9</td>\n",
       "      <td id=\"T_2d3f5_row4_col4\" class=\"data row4 col4\" >All</td>\n",
       "      <td id=\"T_2d3f5_row4_col5\" class=\"data row4 col5\" >TPP(5)</td>\n",
       "    </tr>\n",
       "    <tr>\n",
       "      <td id=\"T_2d3f5_row5_col0\" class=\"data row5 col0\" >36</td>\n",
       "      <td id=\"T_2d3f5_row5_col1\" class=\"data row5 col1\" >15</td>\n",
       "      <td id=\"T_2d3f5_row5_col2\" class=\"data row5 col2\" >6</td>\n",
       "      <td id=\"T_2d3f5_row5_col3\" class=\"data row5 col3\" >9</td>\n",
       "      <td id=\"T_2d3f5_row5_col4\" class=\"data row5 col4\" >No</td>\n",
       "      <td id=\"T_2d3f5_row5_col5\" class=\"data row5 col5\" >Turyn</td>\n",
       "    </tr>\n",
       "    <tr>\n",
       "      <td id=\"T_2d3f5_row6_col0\" class=\"data row6 col0\" >39</td>\n",
       "      <td id=\"T_2d3f5_row6_col1\" class=\"data row6 col1\" >19</td>\n",
       "      <td id=\"T_2d3f5_row6_col2\" class=\"data row6 col2\" >9</td>\n",
       "      <td id=\"T_2d3f5_row6_col3\" class=\"data row6 col3\" >10</td>\n",
       "      <td id=\"T_2d3f5_row6_col4\" class=\"data row6 col4\" >No</td>\n",
       "      <td id=\"T_2d3f5_row6_col5\" class=\"data row6 col5\" >Mann Test</td>\n",
       "    </tr>\n",
       "    <tr>\n",
       "      <td id=\"T_2d3f5_row7_col0\" class=\"data row7 col0\" >40</td>\n",
       "      <td id=\"T_2d3f5_row7_col1\" class=\"data row7 col1\" >13</td>\n",
       "      <td id=\"T_2d3f5_row7_col2\" class=\"data row7 col2\" >4</td>\n",
       "      <td id=\"T_2d3f5_row7_col3\" class=\"data row7 col3\" >9</td>\n",
       "      <td id=\"T_2d3f5_row7_col4\" class=\"data row7 col4\" >All</td>\n",
       "      <td id=\"T_2d3f5_row7_col5\" class=\"data row7 col5\" >(3,3) Singer</td>\n",
       "    </tr>\n",
       "    <tr>\n",
       "      <td id=\"T_2d3f5_row8_col0\" class=\"data row8 col0\" >41</td>\n",
       "      <td id=\"T_2d3f5_row8_col1\" class=\"data row8 col1\" >16</td>\n",
       "      <td id=\"T_2d3f5_row8_col2\" class=\"data row8 col2\" >6</td>\n",
       "      <td id=\"T_2d3f5_row8_col3\" class=\"data row8 col3\" >10</td>\n",
       "      <td id=\"T_2d3f5_row8_col4\" class=\"data row8 col4\" >No</td>\n",
       "      <td id=\"T_2d3f5_row8_col5\" class=\"data row8 col5\" >Mann Test</td>\n",
       "    </tr>\n",
       "    <tr>\n",
       "      <td id=\"T_2d3f5_row9_col0\" class=\"data row9 col0\" >45</td>\n",
       "      <td id=\"T_2d3f5_row9_col1\" class=\"data row9 col1\" >12</td>\n",
       "      <td id=\"T_2d3f5_row9_col2\" class=\"data row9 col2\" >3</td>\n",
       "      <td id=\"T_2d3f5_row9_col3\" class=\"data row9 col3\" >9</td>\n",
       "      <td id=\"T_2d3f5_row9_col4\" class=\"data row9 col4\" >No</td>\n",
       "      <td id=\"T_2d3f5_row9_col5\" class=\"data row9 col5\" >Turyn</td>\n",
       "    </tr>\n",
       "    <tr>\n",
       "      <td id=\"T_2d3f5_row10_col0\" class=\"data row10 col0\" >49</td>\n",
       "      <td id=\"T_2d3f5_row10_col1\" class=\"data row10 col1\" >16</td>\n",
       "      <td id=\"T_2d3f5_row10_col2\" class=\"data row10 col2\" >5</td>\n",
       "      <td id=\"T_2d3f5_row10_col3\" class=\"data row10 col3\" >11</td>\n",
       "      <td id=\"T_2d3f5_row10_col4\" class=\"data row10 col4\" >No</td>\n",
       "      <td id=\"T_2d3f5_row10_col5\" class=\"data row10 col5\" >Lander, Theorem 4.38</td>\n",
       "    </tr>\n",
       "    <tr>\n",
       "      <td id=\"T_2d3f5_row11_col0\" class=\"data row11 col0\" >56</td>\n",
       "      <td id=\"T_2d3f5_row11_col1\" class=\"data row11 col1\" >11</td>\n",
       "      <td id=\"T_2d3f5_row11_col2\" class=\"data row11 col2\" >2</td>\n",
       "      <td id=\"T_2d3f5_row11_col3\" class=\"data row11 col3\" >9</td>\n",
       "      <td id=\"T_2d3f5_row11_col4\" class=\"data row11 col4\" >No</td>\n",
       "      <td id=\"T_2d3f5_row11_col5\" class=\"data row11 col5\" >Lander, Theorem 4.18</td>\n",
       "    </tr>\n",
       "    <tr>\n",
       "      <td id=\"T_2d3f5_row12_col0\" class=\"data row12 col0\" >61</td>\n",
       "      <td id=\"T_2d3f5_row12_col1\" class=\"data row12 col1\" >16</td>\n",
       "      <td id=\"T_2d3f5_row12_col2\" class=\"data row12 col2\" >4</td>\n",
       "      <td id=\"T_2d3f5_row12_col3\" class=\"data row12 col3\" >12</td>\n",
       "      <td id=\"T_2d3f5_row12_col4\" class=\"data row12 col4\" >No</td>\n",
       "      <td id=\"T_2d3f5_row12_col5\" class=\"data row12 col5\" >Mann Test</td>\n",
       "    </tr>\n",
       "    <tr>\n",
       "      <td id=\"T_2d3f5_row13_col0\" class=\"data row13 col0\" >69</td>\n",
       "      <td id=\"T_2d3f5_row13_col1\" class=\"data row13 col1\" >17</td>\n",
       "      <td id=\"T_2d3f5_row13_col2\" class=\"data row13 col2\" >4</td>\n",
       "      <td id=\"T_2d3f5_row13_col3\" class=\"data row13 col3\" >13</td>\n",
       "      <td id=\"T_2d3f5_row13_col4\" class=\"data row13 col4\" >No</td>\n",
       "      <td id=\"T_2d3f5_row13_col5\" class=\"data row13 col5\" >Lander, Theorem 4.38</td>\n",
       "    </tr>\n",
       "    <tr>\n",
       "      <td id=\"T_2d3f5_row14_col0\" class=\"data row14 col0\" >71</td>\n",
       "      <td id=\"T_2d3f5_row14_col1\" class=\"data row14 col1\" >15</td>\n",
       "      <td id=\"T_2d3f5_row14_col2\" class=\"data row14 col2\" >3</td>\n",
       "      <td id=\"T_2d3f5_row14_col3\" class=\"data row14 col3\" >12</td>\n",
       "      <td id=\"T_2d3f5_row14_col4\" class=\"data row14 col4\" >No</td>\n",
       "      <td id=\"T_2d3f5_row14_col5\" class=\"data row14 col5\" >Lander, Theorem 4.38</td>\n",
       "    </tr>\n",
       "    <tr>\n",
       "      <td id=\"T_2d3f5_row15_col0\" class=\"data row15 col0\" >79</td>\n",
       "      <td id=\"T_2d3f5_row15_col1\" class=\"data row15 col1\" >13</td>\n",
       "      <td id=\"T_2d3f5_row15_col2\" class=\"data row15 col2\" >2</td>\n",
       "      <td id=\"T_2d3f5_row15_col3\" class=\"data row15 col3\" >11</td>\n",
       "      <td id=\"T_2d3f5_row15_col4\" class=\"data row15 col4\" >No</td>\n",
       "      <td id=\"T_2d3f5_row15_col5\" class=\"data row15 col5\" >Lander, Theorem 4.38</td>\n",
       "    </tr>\n",
       "    <tr>\n",
       "      <td id=\"T_2d3f5_row16_col0\" class=\"data row16 col0\" >81</td>\n",
       "      <td id=\"T_2d3f5_row16_col1\" class=\"data row16 col1\" >16</td>\n",
       "      <td id=\"T_2d3f5_row16_col2\" class=\"data row16 col2\" >3</td>\n",
       "      <td id=\"T_2d3f5_row16_col3\" class=\"data row16 col3\" >13</td>\n",
       "      <td id=\"T_2d3f5_row16_col4\" class=\"data row16 col4\" >No</td>\n",
       "      <td id=\"T_2d3f5_row16_col5\" class=\"data row16 col5\" >Lander, Theorem 4.38</td>\n",
       "    </tr>\n",
       "  </tbody>\n",
       "</table>\n"
      ],
      "text/plain": [
       "<pandas.io.formats.style.Styler object at 0x7f8679ec8f70>"
      ]
     },
     "execution_count": 2,
     "metadata": {},
     "output_type": "execute_result"
    }
   ],
   "source": [
    "T = init_tab()\n",
    "for D in diffsets:\n",
    "    v = get_v(D)\n",
    "    k = get_k(D)\n",
    "    lam = get_lam(D)\n",
    "    G = get_G(D)\n",
    "    if get_status(D) in ['All','Yes','No','Open']: # allow any status\n",
    "        if v in range(10,100):\n",
    "            if k in range(10,20):\n",
    "                if lam in range(2,20):\n",
    "                    if len(G)==1: # only look at cyclic groups\n",
    "                        add_tab_entry(T,D)\n",
    "show_tab(T)"
   ]
  },
  {
   "cell_type": "markdown",
   "metadata": {},
   "source": [
    "## Viewing existence results and difference sets\n",
    "\n",
    "After reading the data in <code>ds.json</code>, <code>ds_code.py</code> gives functions to check for difference sets $D$ in the dataset.  They are reported as $k$-subsets of $G$.\n",
    "\n",
    "The arguments to <code>get_ds_data()</code> are $v$, $k$, $\\lambda$ and $G$, where the group is given by its <i>invariant factors</i> $[n_1,n_2,\\ldots,n_t]$, where $n_i | n_{i+1}$.  If the group is given in a nonstandard way (say by its elementary divisors, or with the invariant factors in a nonincreasing order), the set will not be found."
   ]
  },
  {
   "cell_type": "code",
   "execution_count": 3,
   "metadata": {},
   "outputs": [
    {
     "name": "stdout",
     "output_type": "stream",
     "text": [
      "There is exactly 1 DS(7,3,1) in group [7]\n",
      "Reference: (2,2) Singer\n",
      "\n",
      "0 1 3 \n"
     ]
    }
   ],
   "source": [
    "get_ds_data(7,3,1,[7])"
   ]
  },
  {
   "cell_type": "code",
   "execution_count": 4,
   "metadata": {},
   "outputs": [
    {
     "name": "stdout",
     "output_type": "stream",
     "text": [
      "No DS(16,6,2) exists in group [16]\n",
      "Reference: Lander, Theorem 4.31\n",
      "\n",
      "\n",
      "There are exactly 2 DS(16,6,2) in group [2,8]\n",
      "Reference: Hadamard\n",
      "\n",
      "0:\t[0, 0] [0, 1] [0, 2] [0, 5] [1, 0] [1, 6] \n",
      "1:\t[0, 0] [0, 1] [0, 2] [0, 6] [1, 0] [1, 5] \n",
      "\n",
      "There are exactly 3 DS(16,6,2) in group [4,4]\n",
      "Reference: Hadamard\n",
      "\n",
      "0:\t[0, 0] [1, 0] [0, 1] [2, 1] [1, 2] [2, 2] \n",
      "1:\t[0, 0] [1, 0] [2, 0] [0, 1] [1, 2] [2, 3] \n",
      "2:\t[0, 0] [1, 0] [2, 0] [0, 1] [3, 2] [0, 3] \n",
      "\n",
      "There are exactly 2 DS(16,6,2) in group [2,2,4]\n",
      "Reference: Hadamard\n",
      "\n",
      "0:\t[0, 0, 0] [0, 0, 1] [0, 0, 2] [1, 0, 0] [0, 1, 0] [1, 1, 3] \n",
      "1:\t[0, 0, 0] [0, 0, 1] [0, 0, 3] [1, 0, 0] [0, 1, 0] [1, 1, 2] \n",
      "\n",
      "There is exactly 1 DS(16,6,2) in group [2,2,2,2]\n",
      "Reference: Hadamard\n",
      "\n",
      "[0, 0, 0, 0] [1, 0, 0, 0] [0, 1, 0, 0] [0, 0, 1, 0] [0, 0, 0, 1] [1, 1, 1, 1] \n",
      "\n"
     ]
    }
   ],
   "source": [
    "get_ds_allgroups(16,6,2)"
   ]
  },
  {
   "cell_type": "code",
   "execution_count": 5,
   "metadata": {},
   "outputs": [
    {
     "name": "stdout",
     "output_type": "stream",
     "text": [
      "No DS(36,15,6) exists in group [36]\n",
      "Reference: Turyn\n",
      "\n",
      "\n",
      "There are exactly 4 DS(36,15,6) in group [3,12]\n",
      "Reference: Hadamard (Kibler, JCT A, 1978)\n",
      "\n",
      "DS given as elements of [4, 3, 3]\n",
      "0:\t[0, 0, 0] [1, 0, 0] [0, 2, 0] [2, 0, 0] [0, 1, 0] [3, 0, 0] [0, 0, 1] [3, 2, 1] [2, 1, 1] [1, 0, 1] [0, 2, 1] [0, 1, 1] [1, 0, 2] [3, 1, 2] [2, 2, 2] \n",
      "1:\t[0, 0, 0] [1, 0, 0] [0, 2, 0] [3, 1, 0] [2, 0, 0] [0, 1, 0] [0, 0, 1] [2, 1, 1] [1, 0, 1] [0, 2, 1] [0, 1, 1] [3, 0, 1] [3, 2, 2] [1, 0, 2] [2, 2, 2] \n",
      "2:\t[0, 0, 0] [1, 0, 0] [0, 2, 0] [3, 1, 0] [2, 0, 0] [0, 1, 0] [0, 0, 1] [3, 2, 1] [1, 0, 1] [0, 2, 1] [0, 1, 1] [2, 2, 1] [2, 1, 2] [1, 0, 2] [3, 0, 2] \n",
      "3:\t[0, 0, 0] [3, 2, 0] [2, 1, 0] [1, 0, 0] [0, 2, 0] [0, 1, 0] [0, 0, 1] [1, 0, 1] [0, 2, 1] [3, 1, 1] [0, 1, 1] [2, 2, 1] [1, 0, 2] [2, 0, 2] [3, 0, 2] \n",
      "\n",
      "No DS(36,15,6) exists in group [2,18]\n",
      "Reference: Turyn\n",
      "\n",
      "\n",
      "There are exactly 3 DS(36,15,6) in group [6,6]\n",
      "Reference: Hadamard (Kibler, JCT A, 1978)\n",
      "\n",
      "DS given as elements of [2, 2, 3, 3]\n",
      "0:\t[0, 0, 0, 0] [0, 0, 1, 0] [0, 1, 0, 0] [0, 0, 2, 0] [1, 0, 0, 2] [1, 1, 2, 2] [1, 1, 0, 2] [0, 1, 1, 1] [1, 0, 0, 0] [1, 1, 2, 0] [1, 1, 1, 0] [0, 1, 2, 2] [1, 0, 0, 1] [1, 1, 0, 1] [1, 1, 1, 1] \n",
      "1:\t[0, 0, 0, 0] [0, 0, 1, 0] [0, 1, 0, 0] [1, 1, 0, 2] [0, 0, 0, 1] [0, 1, 0, 1] [0, 0, 2, 1] [1, 0, 0, 0] [1, 0, 1, 0] [1, 0, 2, 0] [1, 1, 1, 0] [0, 0, 1, 2] [0, 1, 0, 2] [0, 0, 2, 2] [1, 1, 2, 1] \n",
      "2:\t[0, 0, 0, 0] [0, 0, 1, 0] [0, 1, 0, 0] [1, 1, 2, 2] [0, 0, 0, 1] [0, 1, 0, 1] [0, 0, 2, 1] [1, 0, 0, 0] [1, 0, 1, 0] [1, 1, 0, 0] [1, 0, 2, 0] [0, 0, 1, 2] [0, 1, 0, 2] [0, 0, 2, 2] [1, 1, 1, 1] \n",
      "\n"
     ]
    }
   ],
   "source": [
    "get_ds_allgroups(36,15,6)"
   ]
  },
  {
   "cell_type": "markdown",
   "metadata": {},
   "source": [
    "## Handling difference sets\n",
    "\n",
    "The above functions are to get information about results in the database.  If you want to get the actual objects to manipulate, <code>get_ds</code>$(v,k,\\lambda,G,i)$ returns the $i$th such difference set in the database, as a list $[v,k,\\lambda,G,D]$."
   ]
  },
  {
   "cell_type": "code",
   "execution_count": 6,
   "metadata": {},
   "outputs": [
    {
     "name": "stdout",
     "output_type": "stream",
     "text": [
      "[11, 5, 2, [11], [1, 3, 4, 5, 9]]\n"
     ]
    }
   ],
   "source": [
    "D=get_ds(11,5,2,[11],0)\n",
    "print(D)"
   ]
  },
  {
   "cell_type": "code",
   "execution_count": 7,
   "metadata": {},
   "outputs": [
    {
     "name": "stdout",
     "output_type": "stream",
     "text": [
      "[11, 5, 2, [11], [1, 3, 4, 5, 9]]\n"
     ]
    },
    {
     "data": {
      "text/plain": [
       "(1) + (3) + (4) + (5) + (9)"
      ]
     },
     "execution_count": 7,
     "metadata": {},
     "output_type": "execute_result"
    }
   ],
   "source": [
    "A=ds_as_gp_ring_elt(get_ds(11,5,2,[11],0))\n",
    "A"
   ]
  },
  {
   "cell_type": "code",
   "execution_count": 8,
   "metadata": {},
   "outputs": [
    {
     "data": {
      "text/plain": [
       "(2) + (6) + (7) + (8) + (10)"
      ]
     },
     "execution_count": 8,
     "metadata": {},
     "output_type": "execute_result"
    }
   ],
   "source": [
    "B=gp_ring_elt_map(A,-1)\n",
    "B"
   ]
  },
  {
   "cell_type": "code",
   "execution_count": 9,
   "metadata": {},
   "outputs": [
    {
     "data": {
      "text/plain": [
       "5*(0) + 2*(1) + 2*(2) + 2*(3) + 2*(4) + 2*(5) + 2*(6) + 2*(7) + 2*(8) + 2*(9) + 2*(10)"
      ]
     },
     "execution_count": 9,
     "metadata": {},
     "output_type": "execute_result"
    }
   ],
   "source": [
    "A*B"
   ]
  },
  {
   "cell_type": "markdown",
   "metadata": {},
   "source": [
    "<code>is_ds()</code> uses this method to verify that a difference set is valid."
   ]
  },
  {
   "cell_type": "code",
   "execution_count": 10,
   "metadata": {},
   "outputs": [
    {
     "name": "stdout",
     "output_type": "stream",
     "text": [
      "[11, 5, 2, [11], [1, 3, 4, 5, 9]]\n"
     ]
    },
    {
     "data": {
      "text/plain": [
       "True"
      ]
     },
     "execution_count": 10,
     "metadata": {},
     "output_type": "execute_result"
    }
   ],
   "source": [
    "is_ds(get_ds(11,5,2,[11],0))"
   ]
  },
  {
   "cell_type": "code",
   "execution_count": null,
   "metadata": {},
   "outputs": [],
   "source": []
  }
 ],
 "metadata": {
  "kernelspec": {
   "display_name": "SageMath 9.5",
   "language": "sage",
   "name": "sagemath"
  },
  "language_info": {
   "codemirror_mode": {
    "name": "ipython",
    "version": 3
   },
   "file_extension": ".py",
   "mimetype": "text/x-python",
   "name": "python",
   "nbconvert_exporter": "python",
   "pygments_lexer": "ipython3",
   "version": "3.9.9"
  }
 },
 "nbformat": 4,
 "nbformat_minor": 4
}
